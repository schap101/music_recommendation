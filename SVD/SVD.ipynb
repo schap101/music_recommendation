{
 "cells": [
  {
   "cell_type": "code",
   "execution_count": 26,
   "metadata": {},
   "outputs": [],
   "source": [
    "#from surprise import SVDpp\n",
    "\n",
    "from surprise import SVD\n",
    "import pandas as pd\n",
    "import numpy as np\n",
    "#from surprise import BaselineOnly\n",
    "#from surprise import NormalPredictor\n",
    "from surprise import Dataset\n",
    "#from surprise.model_selection import cross_validate\n",
    "from surprise import Reader\n",
    "from surprise import accuracy"
   ]
  },
  {
   "cell_type": "code",
   "execution_count": 3,
   "metadata": {},
   "outputs": [],
   "source": [
    "# importing the train and test data as pandas dataframe\n",
    "train_data = pd.read_csv(\"../Data/train-prep.csv\")\n",
    "test_data = pd.read_csv(\"../Data/test.csv\")\n",
    "# drop index column\n",
    "train_data.reset_index(drop=True, inplace=True)\n",
    "test_data.reset_index(drop=True, inplace=True)\n",
    "\n"
   ]
  },
  {
   "cell_type": "code",
   "execution_count": 4,
   "metadata": {},
   "outputs": [
    {
     "data": {
      "text/plain": "   Unnamed: 0  genre_id            ts_listen  media_id  album_id  \\\n0           0     25471  2016-12-01 13:00:15    222606     41774   \n1           1     25571  2016-11-30 22:25:35    250467     43941   \n2           2        16  2016-11-19 13:59:13    305197     48078   \n3           3         7  2016-11-26 09:21:38    900502     71521   \n4           4         7  2016-11-05 18:02:54    542335     71718   \n\n   context_type         release_date  platform_name  platform_family  \\\n0            12  2004-07-04 00:00:00              1                0   \n1             0  2006-03-01 00:00:00              2                1   \n2             1  2014-07-14 00:00:00              2                1   \n3             0  2000-10-30 00:00:00              0                0   \n4             0  2008-02-15 00:00:00              0                0   \n\n   media_duration  listen_type  user_gender  user_id  artist_id  user_age  \\\n0             223            0            0     9241      55164        29   \n1             171            0            0    16547      55830        30   \n2             149            1            1     7665       2704        29   \n3             240            0            1     1580        938        30   \n4             150            0            1     1812       2939        24   \n\n   is_listened  \n0            0  \n1            1  \n2            1  \n3            0  \n4            1  ",
      "text/html": "<div>\n<style scoped>\n    .dataframe tbody tr th:only-of-type {\n        vertical-align: middle;\n    }\n\n    .dataframe tbody tr th {\n        vertical-align: top;\n    }\n\n    .dataframe thead th {\n        text-align: right;\n    }\n</style>\n<table border=\"1\" class=\"dataframe\">\n  <thead>\n    <tr style=\"text-align: right;\">\n      <th></th>\n      <th>Unnamed: 0</th>\n      <th>genre_id</th>\n      <th>ts_listen</th>\n      <th>media_id</th>\n      <th>album_id</th>\n      <th>context_type</th>\n      <th>release_date</th>\n      <th>platform_name</th>\n      <th>platform_family</th>\n      <th>media_duration</th>\n      <th>listen_type</th>\n      <th>user_gender</th>\n      <th>user_id</th>\n      <th>artist_id</th>\n      <th>user_age</th>\n      <th>is_listened</th>\n    </tr>\n  </thead>\n  <tbody>\n    <tr>\n      <th>0</th>\n      <td>0</td>\n      <td>25471</td>\n      <td>2016-12-01 13:00:15</td>\n      <td>222606</td>\n      <td>41774</td>\n      <td>12</td>\n      <td>2004-07-04 00:00:00</td>\n      <td>1</td>\n      <td>0</td>\n      <td>223</td>\n      <td>0</td>\n      <td>0</td>\n      <td>9241</td>\n      <td>55164</td>\n      <td>29</td>\n      <td>0</td>\n    </tr>\n    <tr>\n      <th>1</th>\n      <td>1</td>\n      <td>25571</td>\n      <td>2016-11-30 22:25:35</td>\n      <td>250467</td>\n      <td>43941</td>\n      <td>0</td>\n      <td>2006-03-01 00:00:00</td>\n      <td>2</td>\n      <td>1</td>\n      <td>171</td>\n      <td>0</td>\n      <td>0</td>\n      <td>16547</td>\n      <td>55830</td>\n      <td>30</td>\n      <td>1</td>\n    </tr>\n    <tr>\n      <th>2</th>\n      <td>2</td>\n      <td>16</td>\n      <td>2016-11-19 13:59:13</td>\n      <td>305197</td>\n      <td>48078</td>\n      <td>1</td>\n      <td>2014-07-14 00:00:00</td>\n      <td>2</td>\n      <td>1</td>\n      <td>149</td>\n      <td>1</td>\n      <td>1</td>\n      <td>7665</td>\n      <td>2704</td>\n      <td>29</td>\n      <td>1</td>\n    </tr>\n    <tr>\n      <th>3</th>\n      <td>3</td>\n      <td>7</td>\n      <td>2016-11-26 09:21:38</td>\n      <td>900502</td>\n      <td>71521</td>\n      <td>0</td>\n      <td>2000-10-30 00:00:00</td>\n      <td>0</td>\n      <td>0</td>\n      <td>240</td>\n      <td>0</td>\n      <td>1</td>\n      <td>1580</td>\n      <td>938</td>\n      <td>30</td>\n      <td>0</td>\n    </tr>\n    <tr>\n      <th>4</th>\n      <td>4</td>\n      <td>7</td>\n      <td>2016-11-05 18:02:54</td>\n      <td>542335</td>\n      <td>71718</td>\n      <td>0</td>\n      <td>2008-02-15 00:00:00</td>\n      <td>0</td>\n      <td>0</td>\n      <td>150</td>\n      <td>0</td>\n      <td>1</td>\n      <td>1812</td>\n      <td>2939</td>\n      <td>24</td>\n      <td>1</td>\n    </tr>\n  </tbody>\n</table>\n</div>"
     },
     "execution_count": 4,
     "metadata": {},
     "output_type": "execute_result"
    }
   ],
   "source": [
    "train_data.head()"
   ]
  },
  {
   "cell_type": "code",
   "execution_count": 5,
   "metadata": {},
   "outputs": [],
   "source": [
    "#format the train_data corresponding to the reader's ('user, item, rating')\n",
    "# data preparation\n",
    "prepareData = {\"itemID\": list(train_data.genre_id),\n",
    "               \"userID\": list(train_data.user_id),\n",
    "               \"rating\": list(train_data.is_listened),\n",
    "               }\n",
    "\n",
    "test_data[\"is_listened\"] = np.nan\n",
    "prepareTestData = {\"itemID\": list(test_data.genre_id),\n",
    "                   \"userID\": list(test_data.user_id),\n",
    "                   \"rating\": list(test_data.is_listened),\n",
    "                   }"
   ]
  },
  {
   "cell_type": "code",
   "execution_count": 7,
   "metadata": {},
   "outputs": [],
   "source": [
    "# loading dict into dataframe\n",
    "df = pd.DataFrame(prepareData)  # train data\n",
    "dft = pd.DataFrame(prepareTestData)  # test data"
   ]
  },
  {
   "cell_type": "code",
   "execution_count": 8,
   "metadata": {},
   "outputs": [
    {
     "data": {
      "text/plain": "   itemID  userID  rating\n0   25471    9241       0\n1   25571   16547       1\n2      16    7665       1\n3       7    1580       0\n4       7    1812       1",
      "text/html": "<div>\n<style scoped>\n    .dataframe tbody tr th:only-of-type {\n        vertical-align: middle;\n    }\n\n    .dataframe tbody tr th {\n        vertical-align: top;\n    }\n\n    .dataframe thead th {\n        text-align: right;\n    }\n</style>\n<table border=\"1\" class=\"dataframe\">\n  <thead>\n    <tr style=\"text-align: right;\">\n      <th></th>\n      <th>itemID</th>\n      <th>userID</th>\n      <th>rating</th>\n    </tr>\n  </thead>\n  <tbody>\n    <tr>\n      <th>0</th>\n      <td>25471</td>\n      <td>9241</td>\n      <td>0</td>\n    </tr>\n    <tr>\n      <th>1</th>\n      <td>25571</td>\n      <td>16547</td>\n      <td>1</td>\n    </tr>\n    <tr>\n      <th>2</th>\n      <td>16</td>\n      <td>7665</td>\n      <td>1</td>\n    </tr>\n    <tr>\n      <th>3</th>\n      <td>7</td>\n      <td>1580</td>\n      <td>0</td>\n    </tr>\n    <tr>\n      <th>4</th>\n      <td>7</td>\n      <td>1812</td>\n      <td>1</td>\n    </tr>\n  </tbody>\n</table>\n</div>"
     },
     "execution_count": 8,
     "metadata": {},
     "output_type": "execute_result"
    }
   ],
   "source": [
    "df.head()"
   ]
  },
  {
   "cell_type": "code",
   "execution_count": 17,
   "metadata": {},
   "outputs": [
    {
     "data": {
      "text/html": [
       "<div>\n",
       "<style scoped>\n",
       "    .dataframe tbody tr th:only-of-type {\n",
       "        vertical-align: middle;\n",
       "    }\n",
       "\n",
       "    .dataframe tbody tr th {\n",
       "        vertical-align: top;\n",
       "    }\n",
       "\n",
       "    .dataframe thead th {\n",
       "        text-align: right;\n",
       "    }\n",
       "</style>\n",
       "<table border=\"1\" class=\"dataframe\">\n",
       "  <thead>\n",
       "    <tr style=\"text-align: right;\">\n",
       "      <th></th>\n",
       "      <th>sample_id</th>\n",
       "      <th>genre_id</th>\n",
       "      <th>ts_listen</th>\n",
       "      <th>media_id</th>\n",
       "      <th>album_id</th>\n",
       "      <th>context_type</th>\n",
       "      <th>release_date</th>\n",
       "      <th>platform_name</th>\n",
       "      <th>platform_family</th>\n",
       "      <th>media_duration</th>\n",
       "      <th>listen_type</th>\n",
       "      <th>user_gender</th>\n",
       "      <th>user_id</th>\n",
       "      <th>artist_id</th>\n",
       "      <th>user_age</th>\n",
       "    </tr>\n",
       "  </thead>\n",
       "  <tbody>\n",
       "    <tr>\n",
       "      <th>0</th>\n",
       "      <td>0</td>\n",
       "      <td>50</td>\n",
       "      <td>1478104371</td>\n",
       "      <td>683078</td>\n",
       "      <td>82356</td>\n",
       "      <td>1</td>\n",
       "      <td>20021008</td>\n",
       "      <td>0</td>\n",
       "      <td>0</td>\n",
       "      <td>542</td>\n",
       "      <td>1</td>\n",
       "      <td>0</td>\n",
       "      <td>17698</td>\n",
       "      <td>2076</td>\n",
       "      <td>30</td>\n",
       "    </tr>\n",
       "    <tr>\n",
       "      <th>1</th>\n",
       "      <td>1</td>\n",
       "      <td>2744</td>\n",
       "      <td>1479317140</td>\n",
       "      <td>876497</td>\n",
       "      <td>99692</td>\n",
       "      <td>1</td>\n",
       "      <td>19851231</td>\n",
       "      <td>0</td>\n",
       "      <td>0</td>\n",
       "      <td>307</td>\n",
       "      <td>1</td>\n",
       "      <td>0</td>\n",
       "      <td>10525</td>\n",
       "      <td>26</td>\n",
       "      <td>28</td>\n",
       "    </tr>\n",
       "    <tr>\n",
       "      <th>2</th>\n",
       "      <td>2</td>\n",
       "      <td>2744</td>\n",
       "      <td>1479546361</td>\n",
       "      <td>876497</td>\n",
       "      <td>99692</td>\n",
       "      <td>1</td>\n",
       "      <td>19851231</td>\n",
       "      <td>0</td>\n",
       "      <td>0</td>\n",
       "      <td>307</td>\n",
       "      <td>1</td>\n",
       "      <td>0</td>\n",
       "      <td>8716</td>\n",
       "      <td>26</td>\n",
       "      <td>27</td>\n",
       "    </tr>\n",
       "    <tr>\n",
       "      <th>3</th>\n",
       "      <td>3</td>\n",
       "      <td>2744</td>\n",
       "      <td>1478457729</td>\n",
       "      <td>876500</td>\n",
       "      <td>99692</td>\n",
       "      <td>1</td>\n",
       "      <td>19851231</td>\n",
       "      <td>2</td>\n",
       "      <td>1</td>\n",
       "      <td>265</td>\n",
       "      <td>1</td>\n",
       "      <td>0</td>\n",
       "      <td>5443</td>\n",
       "      <td>26</td>\n",
       "      <td>30</td>\n",
       "    </tr>\n",
       "    <tr>\n",
       "      <th>4</th>\n",
       "      <td>4</td>\n",
       "      <td>2744</td>\n",
       "      <td>1480448560</td>\n",
       "      <td>876504</td>\n",
       "      <td>99692</td>\n",
       "      <td>1</td>\n",
       "      <td>19851231</td>\n",
       "      <td>2</td>\n",
       "      <td>1</td>\n",
       "      <td>356</td>\n",
       "      <td>1</td>\n",
       "      <td>0</td>\n",
       "      <td>7600</td>\n",
       "      <td>26</td>\n",
       "      <td>29</td>\n",
       "    </tr>\n",
       "  </tbody>\n",
       "</table>\n",
       "</div>"
      ],
      "text/plain": [
       "   sample_id  genre_id   ts_listen  media_id  album_id  context_type  \\\n",
       "0          0        50  1478104371    683078     82356             1   \n",
       "1          1      2744  1479317140    876497     99692             1   \n",
       "2          2      2744  1479546361    876497     99692             1   \n",
       "3          3      2744  1478457729    876500     99692             1   \n",
       "4          4      2744  1480448560    876504     99692             1   \n",
       "\n",
       "   release_date  platform_name  platform_family  media_duration  listen_type  \\\n",
       "0      20021008              0                0             542            1   \n",
       "1      19851231              0                0             307            1   \n",
       "2      19851231              0                0             307            1   \n",
       "3      19851231              2                1             265            1   \n",
       "4      19851231              2                1             356            1   \n",
       "\n",
       "   user_gender  user_id  artist_id  user_age  \n",
       "0            0    17698       2076        30  \n",
       "1            0    10525         26        28  \n",
       "2            0     8716         26        27  \n",
       "3            0     5443         26        30  \n",
       "4            0     7600         26        29  "
      ]
     },
     "execution_count": 17,
     "metadata": {},
     "output_type": "execute_result"
    }
   ],
   "source": [
    "test_data.head()"
   ]
  },
  {
   "cell_type": "code",
   "execution_count": 9,
   "metadata": {},
   "outputs": [
    {
     "data": {
      "text/plain": "   itemID  userID  rating\n0      50   17698     NaN\n1    2744   10525     NaN\n2    2744    8716     NaN\n3    2744    5443     NaN\n4    2744    7600     NaN",
      "text/html": "<div>\n<style scoped>\n    .dataframe tbody tr th:only-of-type {\n        vertical-align: middle;\n    }\n\n    .dataframe tbody tr th {\n        vertical-align: top;\n    }\n\n    .dataframe thead th {\n        text-align: right;\n    }\n</style>\n<table border=\"1\" class=\"dataframe\">\n  <thead>\n    <tr style=\"text-align: right;\">\n      <th></th>\n      <th>itemID</th>\n      <th>userID</th>\n      <th>rating</th>\n    </tr>\n  </thead>\n  <tbody>\n    <tr>\n      <th>0</th>\n      <td>50</td>\n      <td>17698</td>\n      <td>NaN</td>\n    </tr>\n    <tr>\n      <th>1</th>\n      <td>2744</td>\n      <td>10525</td>\n      <td>NaN</td>\n    </tr>\n    <tr>\n      <th>2</th>\n      <td>2744</td>\n      <td>8716</td>\n      <td>NaN</td>\n    </tr>\n    <tr>\n      <th>3</th>\n      <td>2744</td>\n      <td>5443</td>\n      <td>NaN</td>\n    </tr>\n    <tr>\n      <th>4</th>\n      <td>2744</td>\n      <td>7600</td>\n      <td>NaN</td>\n    </tr>\n  </tbody>\n</table>\n</div>"
     },
     "execution_count": 9,
     "metadata": {},
     "output_type": "execute_result"
    }
   ],
   "source": [
    "dft.head()"
   ]
  },
  {
   "cell_type": "code",
   "execution_count": 10,
   "metadata": {},
   "outputs": [],
   "source": [
    "# Creating a Reader\n",
    "reader = Reader(rating_scale=(0, 1))"
   ]
  },
  {
   "cell_type": "code",
   "execution_count": 11,
   "metadata": {},
   "outputs": [],
   "source": [
    "# Arranging dataframe\n",
    "data = Dataset.load_from_df(df[[\"userID\", \"itemID\", \"rating\"]], reader)\n",
    "testdata = Dataset.load_from_df(dft[[\"userID\", \"itemID\", \"rating\"]], reader)"
   ]
  },
  {
   "cell_type": "code",
   "execution_count": 16,
   "metadata": {},
   "outputs": [],
   "source": [
    "#build full trainset\n",
    "#full_trainset = data.build_full_trainset()"
   ]
  },
  {
   "cell_type": "code",
   "execution_count": 17,
   "metadata": {},
   "outputs": [
    {
     "data": {
      "text/plain": "<surprise.prediction_algorithms.matrix_factorization.SVD at 0x7fbbc4d1e4c0>"
     },
     "execution_count": 17,
     "metadata": {},
     "output_type": "execute_result"
    }
   ],
   "source": [
    "# build an algorithm, and train it\n",
    "algo = SVD()\n",
    "#algo.fit(full_trainset)"
   ]
  },
  {
   "cell_type": "code",
   "execution_count": 18,
   "metadata": {
    "pycharm": {
     "name": "#%%\n"
    }
   },
   "outputs": [
    {
     "data": {
      "text/plain": "<surprise.prediction_algorithms.matrix_factorization.SVD at 0x7fbbc4d1e4c0>"
     },
     "execution_count": 18,
     "metadata": {},
     "output_type": "execute_result"
    }
   ],
   "source": [
    "# Build a trainset and fit the SVD algo to the trainset\n",
    "trainset = data.build_full_trainset()\n",
    "algo.fit(trainset)"
   ]
  },
  {
   "cell_type": "code",
   "execution_count": 19,
   "outputs": [],
   "source": [
    "# Build a test set and and use the traind algorithm\n",
    "# on the testset\n",
    "testset = trainset.build_testset()\n",
    "predictions = algo.test(testset)"
   ],
   "metadata": {
    "collapsed": false,
    "pycharm": {
     "name": "#%%\n"
    }
   }
  },
  {
   "cell_type": "code",
   "execution_count": 27,
   "outputs": [
    {
     "name": "stdout",
     "output_type": "stream",
     "text": [
      "RMSE: 0.4097\n"
     ]
    },
    {
     "data": {
      "text/plain": "0.4097320482626927"
     },
     "execution_count": 27,
     "metadata": {},
     "output_type": "execute_result"
    }
   ],
   "source": [
    "# Compute RMSE\n",
    "accuracy.rmse(predictions, verbose=True)\n",
    "\n"
   ],
   "metadata": {
    "collapsed": false,
    "pycharm": {
     "name": "#%%\n"
    }
   }
  }
 ],
 "metadata": {
  "kernelspec": {
   "display_name": "Python 3",
   "language": "python",
   "name": "python3"
  },
  "language_info": {
   "codemirror_mode": {
    "name": "ipython",
    "version": 3
   },
   "file_extension": ".py",
   "mimetype": "text/x-python",
   "name": "python",
   "nbconvert_exporter": "python",
   "pygments_lexer": "ipython3",
   "version": "3.8.8"
  }
 },
 "nbformat": 4,
 "nbformat_minor": 1
}