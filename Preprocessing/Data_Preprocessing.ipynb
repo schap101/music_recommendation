{
 "cells": [
  {
   "cell_type": "markdown",
   "id": "ffa0719b",
   "metadata": {
    "ExecuteTime": {
     "end_time": "2021-03-07T09:38:27.683250Z",
     "start_time": "2021-03-07T09:38:27.679236Z"
    }
   },
   "source": [
    "# Data Definition\n",
    "media_id - identifiant of the song listened by the user  \n",
    "album_id - identifiant of the album of the song  \n",
    "media_duration - duration of the song  \n",
    "user_gender -  gender of the user  \n",
    "user_id -  anonymized id of the user  \n",
    "context_type - type of content where the song was listened: playlist, album ...  \n",
    "release_date - release date of the song with the format YYYYMMDD  \n",
    "ts_listen - timestamp of the listening in UNIX time  \n",
    "platform_name - type of os  \n",
    "platform_family - type of device  \n",
    "user_age - age of the user  \n",
    "listen_type - if the songs was listened in a flow or not  \n",
    "artist_id - identifiant of the artist of the song  \n",
    "genre_id - identifiant of the genre of the song  \n",
    "is_listened - 1 if the track was listened, 0 otherwise  "
   ]
  },
  {
   "cell_type": "markdown",
   "id": "df50c8a1",
   "metadata": {
    "ExecuteTime": {
     "end_time": "2021-03-07T09:08:20.031611Z",
     "start_time": "2021-03-07T09:08:20.026493Z"
    }
   },
   "source": [
    "## Data Preperation"
   ]
  },
  {
   "cell_type": "code",
   "execution_count": 1,
   "id": "6cb525b4",
   "metadata": {
    "ExecuteTime": {
     "end_time": "2021-03-07T09:08:23.924425Z",
     "start_time": "2021-03-07T09:08:23.916906Z"
    }
   },
   "outputs": [],
   "source": [
    "import pandas as pd\n",
    "import numpy as np\n",
    "import matplotlib.pyplot as plt\n",
    "import seaborn as sns\n",
    "import plotly.express as px"
   ]
  },
  {
   "cell_type": "code",
   "execution_count": 2,
   "id": "f5305210",
   "metadata": {},
   "outputs": [],
   "source": [
    "pd.set_option(\"display.max.columns\", None)\n",
    "pd.set_option(\"display.precision\", 3)"
   ]
  },
  {
   "cell_type": "code",
   "execution_count": 3,
   "id": "d7b48095",
   "metadata": {
    "ExecuteTime": {
     "end_time": "2021-03-07T09:08:28.793893Z",
     "start_time": "2021-03-07T09:08:24.613429Z"
    }
   },
   "outputs": [],
   "source": [
    "df = pd.read_csv(\"../data/train.csv\")"
   ]
  },
  {
   "cell_type": "code",
   "execution_count": 4,
   "id": "0830e227",
   "metadata": {
    "ExecuteTime": {
     "end_time": "2021-03-07T09:08:28.805683Z",
     "start_time": "2021-03-07T09:08:28.795168Z"
    }
   },
   "outputs": [
    {
     "data": {
      "text/html": [
       "<div>\n",
       "<style scoped>\n",
       "    .dataframe tbody tr th:only-of-type {\n",
       "        vertical-align: middle;\n",
       "    }\n",
       "\n",
       "    .dataframe tbody tr th {\n",
       "        vertical-align: top;\n",
       "    }\n",
       "\n",
       "    .dataframe thead th {\n",
       "        text-align: right;\n",
       "    }\n",
       "</style>\n",
       "<table border=\"1\" class=\"dataframe\">\n",
       "  <thead>\n",
       "    <tr style=\"text-align: right;\">\n",
       "      <th></th>\n",
       "      <th>genre_id</th>\n",
       "      <th>ts_listen</th>\n",
       "      <th>media_id</th>\n",
       "      <th>album_id</th>\n",
       "      <th>context_type</th>\n",
       "      <th>release_date</th>\n",
       "      <th>platform_name</th>\n",
       "      <th>platform_family</th>\n",
       "      <th>media_duration</th>\n",
       "      <th>listen_type</th>\n",
       "      <th>user_gender</th>\n",
       "      <th>user_id</th>\n",
       "      <th>artist_id</th>\n",
       "      <th>user_age</th>\n",
       "      <th>is_listened</th>\n",
       "    </tr>\n",
       "  </thead>\n",
       "  <tbody>\n",
       "    <tr>\n",
       "      <th>0</th>\n",
       "      <td>25471</td>\n",
       "      <td>1480597215</td>\n",
       "      <td>222606</td>\n",
       "      <td>41774</td>\n",
       "      <td>12</td>\n",
       "      <td>20040704</td>\n",
       "      <td>1</td>\n",
       "      <td>0</td>\n",
       "      <td>223</td>\n",
       "      <td>0</td>\n",
       "      <td>0</td>\n",
       "      <td>9241</td>\n",
       "      <td>55164</td>\n",
       "      <td>29</td>\n",
       "      <td>0</td>\n",
       "    </tr>\n",
       "    <tr>\n",
       "      <th>1</th>\n",
       "      <td>25571</td>\n",
       "      <td>1480544735</td>\n",
       "      <td>250467</td>\n",
       "      <td>43941</td>\n",
       "      <td>0</td>\n",
       "      <td>20060301</td>\n",
       "      <td>2</td>\n",
       "      <td>1</td>\n",
       "      <td>171</td>\n",
       "      <td>0</td>\n",
       "      <td>0</td>\n",
       "      <td>16547</td>\n",
       "      <td>55830</td>\n",
       "      <td>30</td>\n",
       "      <td>1</td>\n",
       "    </tr>\n",
       "    <tr>\n",
       "      <th>2</th>\n",
       "      <td>16</td>\n",
       "      <td>1479563953</td>\n",
       "      <td>305197</td>\n",
       "      <td>48078</td>\n",
       "      <td>1</td>\n",
       "      <td>20140714</td>\n",
       "      <td>2</td>\n",
       "      <td>1</td>\n",
       "      <td>149</td>\n",
       "      <td>1</td>\n",
       "      <td>1</td>\n",
       "      <td>7665</td>\n",
       "      <td>2704</td>\n",
       "      <td>29</td>\n",
       "      <td>1</td>\n",
       "    </tr>\n",
       "    <tr>\n",
       "      <th>3</th>\n",
       "      <td>7</td>\n",
       "      <td>1480152098</td>\n",
       "      <td>900502</td>\n",
       "      <td>71521</td>\n",
       "      <td>0</td>\n",
       "      <td>20001030</td>\n",
       "      <td>0</td>\n",
       "      <td>0</td>\n",
       "      <td>240</td>\n",
       "      <td>0</td>\n",
       "      <td>1</td>\n",
       "      <td>1580</td>\n",
       "      <td>938</td>\n",
       "      <td>30</td>\n",
       "      <td>0</td>\n",
       "    </tr>\n",
       "    <tr>\n",
       "      <th>4</th>\n",
       "      <td>7</td>\n",
       "      <td>1478368974</td>\n",
       "      <td>542335</td>\n",
       "      <td>71718</td>\n",
       "      <td>0</td>\n",
       "      <td>20080215</td>\n",
       "      <td>0</td>\n",
       "      <td>0</td>\n",
       "      <td>150</td>\n",
       "      <td>0</td>\n",
       "      <td>1</td>\n",
       "      <td>1812</td>\n",
       "      <td>2939</td>\n",
       "      <td>24</td>\n",
       "      <td>1</td>\n",
       "    </tr>\n",
       "  </tbody>\n",
       "</table>\n",
       "</div>"
      ],
      "text/plain": [
       "   genre_id   ts_listen  media_id  album_id  context_type  release_date  \\\n",
       "0     25471  1480597215    222606     41774            12      20040704   \n",
       "1     25571  1480544735    250467     43941             0      20060301   \n",
       "2        16  1479563953    305197     48078             1      20140714   \n",
       "3         7  1480152098    900502     71521             0      20001030   \n",
       "4         7  1478368974    542335     71718             0      20080215   \n",
       "\n",
       "   platform_name  platform_family  media_duration  listen_type  user_gender  \\\n",
       "0              1                0             223            0            0   \n",
       "1              2                1             171            0            0   \n",
       "2              2                1             149            1            1   \n",
       "3              0                0             240            0            1   \n",
       "4              0                0             150            0            1   \n",
       "\n",
       "   user_id  artist_id  user_age  is_listened  \n",
       "0     9241      55164        29            0  \n",
       "1    16547      55830        30            1  \n",
       "2     7665       2704        29            1  \n",
       "3     1580        938        30            0  \n",
       "4     1812       2939        24            1  "
      ]
     },
     "execution_count": 4,
     "metadata": {},
     "output_type": "execute_result"
    }
   ],
   "source": [
    "df.head()"
   ]
  },
  {
   "cell_type": "code",
   "execution_count": 5,
   "id": "0aeb0071",
   "metadata": {},
   "outputs": [
    {
     "data": {
      "text/plain": [
       "(7558834, 15)"
      ]
     },
     "execution_count": 5,
     "metadata": {},
     "output_type": "execute_result"
    }
   ],
   "source": [
    "df.shape"
   ]
  },
  {
   "cell_type": "code",
   "execution_count": 6,
   "id": "390fabe2",
   "metadata": {
    "ExecuteTime": {
     "end_time": "2021-03-07T09:08:28.820526Z",
     "start_time": "2021-03-07T09:08:28.807588Z"
    }
   },
   "outputs": [
    {
     "data": {
      "text/plain": [
       "genre_id           int64\n",
       "ts_listen          int64\n",
       "media_id           int64\n",
       "album_id           int64\n",
       "context_type       int64\n",
       "release_date       int64\n",
       "platform_name      int64\n",
       "platform_family    int64\n",
       "media_duration     int64\n",
       "listen_type        int64\n",
       "user_gender        int64\n",
       "user_id            int64\n",
       "artist_id          int64\n",
       "user_age           int64\n",
       "is_listened        int64\n",
       "dtype: object"
      ]
     },
     "execution_count": 6,
     "metadata": {},
     "output_type": "execute_result"
    }
   ],
   "source": [
    "df.dtypes"
   ]
  },
  {
   "cell_type": "code",
   "execution_count": 7,
   "id": "1ecb8c55",
   "metadata": {},
   "outputs": [],
   "source": [
    "# format data"
   ]
  },
  {
   "cell_type": "code",
   "execution_count": 8,
   "id": "9582ac78",
   "metadata": {},
   "outputs": [
    {
     "data": {
      "text/html": [
       "<div>\n",
       "<style scoped>\n",
       "    .dataframe tbody tr th:only-of-type {\n",
       "        vertical-align: middle;\n",
       "    }\n",
       "\n",
       "    .dataframe tbody tr th {\n",
       "        vertical-align: top;\n",
       "    }\n",
       "\n",
       "    .dataframe thead th {\n",
       "        text-align: right;\n",
       "    }\n",
       "</style>\n",
       "<table border=\"1\" class=\"dataframe\">\n",
       "  <thead>\n",
       "    <tr style=\"text-align: right;\">\n",
       "      <th></th>\n",
       "      <th>genre_id</th>\n",
       "      <th>ts_listen</th>\n",
       "      <th>media_id</th>\n",
       "      <th>album_id</th>\n",
       "      <th>context_type</th>\n",
       "      <th>release_date</th>\n",
       "      <th>platform_name</th>\n",
       "      <th>platform_family</th>\n",
       "      <th>media_duration</th>\n",
       "      <th>listen_type</th>\n",
       "      <th>user_gender</th>\n",
       "      <th>user_id</th>\n",
       "      <th>artist_id</th>\n",
       "      <th>user_age</th>\n",
       "      <th>is_listened</th>\n",
       "    </tr>\n",
       "  </thead>\n",
       "  <tbody>\n",
       "    <tr>\n",
       "      <th>0</th>\n",
       "      <td>25471</td>\n",
       "      <td>2016-12-01 13:00:15</td>\n",
       "      <td>222606</td>\n",
       "      <td>41774</td>\n",
       "      <td>12</td>\n",
       "      <td>2004-07-04</td>\n",
       "      <td>1</td>\n",
       "      <td>0</td>\n",
       "      <td>223</td>\n",
       "      <td>0</td>\n",
       "      <td>0</td>\n",
       "      <td>9241</td>\n",
       "      <td>55164</td>\n",
       "      <td>29</td>\n",
       "      <td>0</td>\n",
       "    </tr>\n",
       "    <tr>\n",
       "      <th>1</th>\n",
       "      <td>25571</td>\n",
       "      <td>2016-11-30 22:25:35</td>\n",
       "      <td>250467</td>\n",
       "      <td>43941</td>\n",
       "      <td>0</td>\n",
       "      <td>2006-03-01</td>\n",
       "      <td>2</td>\n",
       "      <td>1</td>\n",
       "      <td>171</td>\n",
       "      <td>0</td>\n",
       "      <td>0</td>\n",
       "      <td>16547</td>\n",
       "      <td>55830</td>\n",
       "      <td>30</td>\n",
       "      <td>1</td>\n",
       "    </tr>\n",
       "    <tr>\n",
       "      <th>2</th>\n",
       "      <td>16</td>\n",
       "      <td>2016-11-19 13:59:13</td>\n",
       "      <td>305197</td>\n",
       "      <td>48078</td>\n",
       "      <td>1</td>\n",
       "      <td>2014-07-14</td>\n",
       "      <td>2</td>\n",
       "      <td>1</td>\n",
       "      <td>149</td>\n",
       "      <td>1</td>\n",
       "      <td>1</td>\n",
       "      <td>7665</td>\n",
       "      <td>2704</td>\n",
       "      <td>29</td>\n",
       "      <td>1</td>\n",
       "    </tr>\n",
       "    <tr>\n",
       "      <th>3</th>\n",
       "      <td>7</td>\n",
       "      <td>2016-11-26 09:21:38</td>\n",
       "      <td>900502</td>\n",
       "      <td>71521</td>\n",
       "      <td>0</td>\n",
       "      <td>2000-10-30</td>\n",
       "      <td>0</td>\n",
       "      <td>0</td>\n",
       "      <td>240</td>\n",
       "      <td>0</td>\n",
       "      <td>1</td>\n",
       "      <td>1580</td>\n",
       "      <td>938</td>\n",
       "      <td>30</td>\n",
       "      <td>0</td>\n",
       "    </tr>\n",
       "    <tr>\n",
       "      <th>4</th>\n",
       "      <td>7</td>\n",
       "      <td>2016-11-05 18:02:54</td>\n",
       "      <td>542335</td>\n",
       "      <td>71718</td>\n",
       "      <td>0</td>\n",
       "      <td>2008-02-15</td>\n",
       "      <td>0</td>\n",
       "      <td>0</td>\n",
       "      <td>150</td>\n",
       "      <td>0</td>\n",
       "      <td>1</td>\n",
       "      <td>1812</td>\n",
       "      <td>2939</td>\n",
       "      <td>24</td>\n",
       "      <td>1</td>\n",
       "    </tr>\n",
       "    <tr>\n",
       "      <th>...</th>\n",
       "      <td>...</td>\n",
       "      <td>...</td>\n",
       "      <td>...</td>\n",
       "      <td>...</td>\n",
       "      <td>...</td>\n",
       "      <td>...</td>\n",
       "      <td>...</td>\n",
       "      <td>...</td>\n",
       "      <td>...</td>\n",
       "      <td>...</td>\n",
       "      <td>...</td>\n",
       "      <td>...</td>\n",
       "      <td>...</td>\n",
       "      <td>...</td>\n",
       "      <td>...</td>\n",
       "    </tr>\n",
       "    <tr>\n",
       "      <th>7558829</th>\n",
       "      <td>0</td>\n",
       "      <td>2016-11-29 05:41:37</td>\n",
       "      <td>136334560</td>\n",
       "      <td>14581358</td>\n",
       "      <td>23</td>\n",
       "      <td>1991-01-01</td>\n",
       "      <td>1</td>\n",
       "      <td>0</td>\n",
       "      <td>268</td>\n",
       "      <td>1</td>\n",
       "      <td>0</td>\n",
       "      <td>2592</td>\n",
       "      <td>129</td>\n",
       "      <td>24</td>\n",
       "      <td>0</td>\n",
       "    </tr>\n",
       "    <tr>\n",
       "      <th>7558830</th>\n",
       "      <td>0</td>\n",
       "      <td>2016-11-24 07:44:25</td>\n",
       "      <td>136591154</td>\n",
       "      <td>14617606</td>\n",
       "      <td>2</td>\n",
       "      <td>2016-11-18</td>\n",
       "      <td>0</td>\n",
       "      <td>0</td>\n",
       "      <td>974</td>\n",
       "      <td>0</td>\n",
       "      <td>0</td>\n",
       "      <td>9028</td>\n",
       "      <td>63401</td>\n",
       "      <td>22</td>\n",
       "      <td>0</td>\n",
       "    </tr>\n",
       "    <tr>\n",
       "      <th>7558831</th>\n",
       "      <td>0</td>\n",
       "      <td>2016-11-24 13:16:17</td>\n",
       "      <td>136647128</td>\n",
       "      <td>14624304</td>\n",
       "      <td>4</td>\n",
       "      <td>2016-10-12</td>\n",
       "      <td>0</td>\n",
       "      <td>2</td>\n",
       "      <td>175</td>\n",
       "      <td>1</td>\n",
       "      <td>0</td>\n",
       "      <td>393</td>\n",
       "      <td>617</td>\n",
       "      <td>26</td>\n",
       "      <td>0</td>\n",
       "    </tr>\n",
       "    <tr>\n",
       "      <th>7558832</th>\n",
       "      <td>0</td>\n",
       "      <td>2016-11-23 21:35:18</td>\n",
       "      <td>136647132</td>\n",
       "      <td>14624304</td>\n",
       "      <td>4</td>\n",
       "      <td>2016-10-12</td>\n",
       "      <td>0</td>\n",
       "      <td>0</td>\n",
       "      <td>126</td>\n",
       "      <td>1</td>\n",
       "      <td>1</td>\n",
       "      <td>4507</td>\n",
       "      <td>221</td>\n",
       "      <td>29</td>\n",
       "      <td>1</td>\n",
       "    </tr>\n",
       "    <tr>\n",
       "      <th>7558833</th>\n",
       "      <td>0</td>\n",
       "      <td>2016-11-24 23:14:35</td>\n",
       "      <td>136714314</td>\n",
       "      <td>14632578</td>\n",
       "      <td>4</td>\n",
       "      <td>2016-11-24</td>\n",
       "      <td>0</td>\n",
       "      <td>0</td>\n",
       "      <td>177</td>\n",
       "      <td>1</td>\n",
       "      <td>1</td>\n",
       "      <td>8129</td>\n",
       "      <td>4088</td>\n",
       "      <td>30</td>\n",
       "      <td>1</td>\n",
       "    </tr>\n",
       "  </tbody>\n",
       "</table>\n",
       "<p>7516579 rows × 15 columns</p>\n",
       "</div>"
      ],
      "text/plain": [
       "        genre_id           ts_listen   media_id  album_id context_type  \\\n",
       "0          25471 2016-12-01 13:00:15     222606     41774           12   \n",
       "1          25571 2016-11-30 22:25:35     250467     43941            0   \n",
       "2             16 2016-11-19 13:59:13     305197     48078            1   \n",
       "3              7 2016-11-26 09:21:38     900502     71521            0   \n",
       "4              7 2016-11-05 18:02:54     542335     71718            0   \n",
       "...          ...                 ...        ...       ...          ...   \n",
       "7558829        0 2016-11-29 05:41:37  136334560  14581358           23   \n",
       "7558830        0 2016-11-24 07:44:25  136591154  14617606            2   \n",
       "7558831        0 2016-11-24 13:16:17  136647128  14624304            4   \n",
       "7558832        0 2016-11-23 21:35:18  136647132  14624304            4   \n",
       "7558833        0 2016-11-24 23:14:35  136714314  14632578            4   \n",
       "\n",
       "        release_date platform_name platform_family  media_duration  \\\n",
       "0         2004-07-04             1               0             223   \n",
       "1         2006-03-01             2               1             171   \n",
       "2         2014-07-14             2               1             149   \n",
       "3         2000-10-30             0               0             240   \n",
       "4         2008-02-15             0               0             150   \n",
       "...              ...           ...             ...             ...   \n",
       "7558829   1991-01-01             1               0             268   \n",
       "7558830   2016-11-18             0               0             974   \n",
       "7558831   2016-10-12             0               2             175   \n",
       "7558832   2016-10-12             0               0             126   \n",
       "7558833   2016-11-24             0               0             177   \n",
       "\n",
       "        listen_type user_gender user_id artist_id  user_age is_listened  \n",
       "0                 0           0    9241     55164        29           0  \n",
       "1                 0           0   16547     55830        30           1  \n",
       "2                 1           1    7665      2704        29           1  \n",
       "3                 0           1    1580       938        30           0  \n",
       "4                 0           1    1812      2939        24           1  \n",
       "...             ...         ...     ...       ...       ...         ...  \n",
       "7558829           1           0    2592       129        24           0  \n",
       "7558830           0           0    9028     63401        22           0  \n",
       "7558831           1           0     393       617        26           0  \n",
       "7558832           1           1    4507       221        29           1  \n",
       "7558833           1           1    8129      4088        30           1  \n",
       "\n",
       "[7516579 rows x 15 columns]"
      ]
     },
     "execution_count": 8,
     "metadata": {},
     "output_type": "execute_result"
    }
   ],
   "source": [
    "df_form = df.copy()\n",
    "df_form[\"ts_listen\"] = pd.to_datetime(df[\"ts_listen\"], \n",
    "                                           unit=\"s\")\n",
    "df_form = df_form[df_form[\"ts_listen\"] > \"2016-11-01\"]\n",
    "\n",
    "df_form[\"release_date\"] = df_form[\"release_date\"].astype(str)\n",
    "df_form[\"release_date\"].head()\n",
    "df_form[\"release_date\"] = pd.to_datetime(df_form[\"release_date\"], \n",
    "                                              format='%Y%m%d',\n",
    "                                              errors=\"coerce\")\n",
    "cats = [\"genre_id\", \n",
    "        \"media_id\", \n",
    "        \"album_id\", \n",
    "        \"context_type\", \n",
    "        \"platform_name\", \n",
    "        \"platform_family\", \n",
    "        \"listen_type\", \n",
    "        \"user_gender\",\n",
    "        \"user_id\", \n",
    "        \"artist_id\", \n",
    "        \"is_listened\"]\n",
    "\n",
    "df_form[cats] = df_form[cats].astype(\"category\")\n",
    "dff = df_form\n",
    "dff"
   ]
  },
  {
   "cell_type": "code",
   "execution_count": 9,
   "id": "0a3d25da",
   "metadata": {},
   "outputs": [
    {
     "data": {
      "text/plain": [
       "genre_id                 category\n",
       "ts_listen          datetime64[ns]\n",
       "media_id                 category\n",
       "album_id                 category\n",
       "context_type             category\n",
       "release_date       datetime64[ns]\n",
       "platform_name            category\n",
       "platform_family          category\n",
       "media_duration              int64\n",
       "listen_type              category\n",
       "user_gender              category\n",
       "user_id                  category\n",
       "artist_id                category\n",
       "user_age                    int64\n",
       "is_listened              category\n",
       "dtype: object"
      ]
     },
     "execution_count": 9,
     "metadata": {},
     "output_type": "execute_result"
    }
   ],
   "source": [
    "dff.dtypes"
   ]
  },
  {
   "cell_type": "code",
   "execution_count": 10,
   "id": "5207b126",
   "metadata": {},
   "outputs": [
    {
     "data": {
      "text/html": [
       "<div>\n",
       "<style scoped>\n",
       "    .dataframe tbody tr th:only-of-type {\n",
       "        vertical-align: middle;\n",
       "    }\n",
       "\n",
       "    .dataframe tbody tr th {\n",
       "        vertical-align: top;\n",
       "    }\n",
       "\n",
       "    .dataframe thead th {\n",
       "        text-align: right;\n",
       "    }\n",
       "</style>\n",
       "<table border=\"1\" class=\"dataframe\">\n",
       "  <thead>\n",
       "    <tr style=\"text-align: right;\">\n",
       "      <th></th>\n",
       "      <th>genre_id</th>\n",
       "      <th>ts_listen</th>\n",
       "      <th>media_id</th>\n",
       "      <th>album_id</th>\n",
       "      <th>context_type</th>\n",
       "      <th>release_date</th>\n",
       "      <th>platform_name</th>\n",
       "      <th>platform_family</th>\n",
       "      <th>media_duration</th>\n",
       "      <th>listen_type</th>\n",
       "      <th>user_gender</th>\n",
       "      <th>user_id</th>\n",
       "      <th>artist_id</th>\n",
       "      <th>user_age</th>\n",
       "      <th>is_listened</th>\n",
       "    </tr>\n",
       "  </thead>\n",
       "  <tbody>\n",
       "    <tr>\n",
       "      <th>0</th>\n",
       "      <td>25471</td>\n",
       "      <td>2016-12-01 13:00:15</td>\n",
       "      <td>222606</td>\n",
       "      <td>41774</td>\n",
       "      <td>12</td>\n",
       "      <td>2004-07-04</td>\n",
       "      <td>1</td>\n",
       "      <td>0</td>\n",
       "      <td>223</td>\n",
       "      <td>0</td>\n",
       "      <td>0</td>\n",
       "      <td>9241</td>\n",
       "      <td>55164</td>\n",
       "      <td>29</td>\n",
       "      <td>0</td>\n",
       "    </tr>\n",
       "    <tr>\n",
       "      <th>1</th>\n",
       "      <td>25571</td>\n",
       "      <td>2016-11-30 22:25:35</td>\n",
       "      <td>250467</td>\n",
       "      <td>43941</td>\n",
       "      <td>0</td>\n",
       "      <td>2006-03-01</td>\n",
       "      <td>2</td>\n",
       "      <td>1</td>\n",
       "      <td>171</td>\n",
       "      <td>0</td>\n",
       "      <td>0</td>\n",
       "      <td>16547</td>\n",
       "      <td>55830</td>\n",
       "      <td>30</td>\n",
       "      <td>1</td>\n",
       "    </tr>\n",
       "    <tr>\n",
       "      <th>2</th>\n",
       "      <td>16</td>\n",
       "      <td>2016-11-19 13:59:13</td>\n",
       "      <td>305197</td>\n",
       "      <td>48078</td>\n",
       "      <td>1</td>\n",
       "      <td>2014-07-14</td>\n",
       "      <td>2</td>\n",
       "      <td>1</td>\n",
       "      <td>149</td>\n",
       "      <td>1</td>\n",
       "      <td>1</td>\n",
       "      <td>7665</td>\n",
       "      <td>2704</td>\n",
       "      <td>29</td>\n",
       "      <td>1</td>\n",
       "    </tr>\n",
       "    <tr>\n",
       "      <th>3</th>\n",
       "      <td>7</td>\n",
       "      <td>2016-11-26 09:21:38</td>\n",
       "      <td>900502</td>\n",
       "      <td>71521</td>\n",
       "      <td>0</td>\n",
       "      <td>2000-10-30</td>\n",
       "      <td>0</td>\n",
       "      <td>0</td>\n",
       "      <td>240</td>\n",
       "      <td>0</td>\n",
       "      <td>1</td>\n",
       "      <td>1580</td>\n",
       "      <td>938</td>\n",
       "      <td>30</td>\n",
       "      <td>0</td>\n",
       "    </tr>\n",
       "    <tr>\n",
       "      <th>4</th>\n",
       "      <td>7</td>\n",
       "      <td>2016-11-05 18:02:54</td>\n",
       "      <td>542335</td>\n",
       "      <td>71718</td>\n",
       "      <td>0</td>\n",
       "      <td>2008-02-15</td>\n",
       "      <td>0</td>\n",
       "      <td>0</td>\n",
       "      <td>150</td>\n",
       "      <td>0</td>\n",
       "      <td>1</td>\n",
       "      <td>1812</td>\n",
       "      <td>2939</td>\n",
       "      <td>24</td>\n",
       "      <td>1</td>\n",
       "    </tr>\n",
       "  </tbody>\n",
       "</table>\n",
       "</div>"
      ],
      "text/plain": [
       "  genre_id           ts_listen media_id album_id context_type release_date  \\\n",
       "0    25471 2016-12-01 13:00:15   222606    41774           12   2004-07-04   \n",
       "1    25571 2016-11-30 22:25:35   250467    43941            0   2006-03-01   \n",
       "2       16 2016-11-19 13:59:13   305197    48078            1   2014-07-14   \n",
       "3        7 2016-11-26 09:21:38   900502    71521            0   2000-10-30   \n",
       "4        7 2016-11-05 18:02:54   542335    71718            0   2008-02-15   \n",
       "\n",
       "  platform_name platform_family  media_duration listen_type user_gender  \\\n",
       "0             1               0             223           0           0   \n",
       "1             2               1             171           0           0   \n",
       "2             2               1             149           1           1   \n",
       "3             0               0             240           0           1   \n",
       "4             0               0             150           0           1   \n",
       "\n",
       "  user_id artist_id  user_age is_listened  \n",
       "0    9241     55164        29           0  \n",
       "1   16547     55830        30           1  \n",
       "2    7665      2704        29           1  \n",
       "3    1580       938        30           0  \n",
       "4    1812      2939        24           1  "
      ]
     },
     "execution_count": 10,
     "metadata": {},
     "output_type": "execute_result"
    }
   ],
   "source": [
    "dff.head()"
   ]
  },
  {
   "cell_type": "markdown",
   "id": "1632dfd3",
   "metadata": {},
   "source": [
    "## Understanding the data"
   ]
  },
  {
   "cell_type": "code",
   "execution_count": 11,
   "id": "9995de31",
   "metadata": {},
   "outputs": [
    {
     "data": {
      "text/plain": [
       "1    5140475\n",
       "0    2376104\n",
       "Name: is_listened, dtype: int64"
      ]
     },
     "execution_count": 11,
     "metadata": {},
     "output_type": "execute_result"
    }
   ],
   "source": [
    "dff['is_listened'].value_counts() # approx 2/3 of samples are considered as listened"
   ]
  },
  {
   "cell_type": "code",
   "execution_count": 48,
   "id": "240c9597",
   "metadata": {},
   "outputs": [
    {
     "data": {
      "text/plain": [
       "0         3645980\n",
       "7          924767\n",
       "10         286389\n",
       "25         267504\n",
       "27         186987\n",
       "           ...   \n",
       "106465          1\n",
       "146065          1\n",
       "857             1\n",
       "6850            1\n",
       "3598            1\n",
       "Name: genre_id, Length: 2919, dtype: int64"
      ]
     },
     "execution_count": 48,
     "metadata": {},
     "output_type": "execute_result"
    }
   ],
   "source": [
    "dff['genre_id'].value_counts() # there are 2919 genres and subgenres in the set - no aggregation possible, since not labeled"
   ]
  },
  {
   "cell_type": "code",
   "execution_count": null,
   "id": "181aa79e",
   "metadata": {},
   "outputs": [],
   "source": []
  },
  {
   "cell_type": "code",
   "execution_count": 49,
   "id": "668e05cf",
   "metadata": {},
   "outputs": [
    {
     "data": {
      "text/html": [
       "<div>\n",
       "<style scoped>\n",
       "    .dataframe tbody tr th:only-of-type {\n",
       "        vertical-align: middle;\n",
       "    }\n",
       "\n",
       "    .dataframe tbody tr th {\n",
       "        vertical-align: top;\n",
       "    }\n",
       "\n",
       "    .dataframe thead th {\n",
       "        text-align: right;\n",
       "    }\n",
       "</style>\n",
       "<table border=\"1\" class=\"dataframe\">\n",
       "  <thead>\n",
       "    <tr style=\"text-align: right;\">\n",
       "      <th></th>\n",
       "      <th>user_id</th>\n",
       "      <th>counts</th>\n",
       "    </tr>\n",
       "  </thead>\n",
       "  <tbody>\n",
       "    <tr>\n",
       "      <th>0</th>\n",
       "      <td>0</td>\n",
       "      <td>129</td>\n",
       "    </tr>\n",
       "    <tr>\n",
       "      <th>1</th>\n",
       "      <td>1</td>\n",
       "      <td>139</td>\n",
       "    </tr>\n",
       "    <tr>\n",
       "      <th>2</th>\n",
       "      <td>2</td>\n",
       "      <td>183</td>\n",
       "    </tr>\n",
       "    <tr>\n",
       "      <th>3</th>\n",
       "      <td>3</td>\n",
       "      <td>281</td>\n",
       "    </tr>\n",
       "    <tr>\n",
       "      <th>4</th>\n",
       "      <td>4</td>\n",
       "      <td>118</td>\n",
       "    </tr>\n",
       "    <tr>\n",
       "      <th>...</th>\n",
       "      <td>...</td>\n",
       "      <td>...</td>\n",
       "    </tr>\n",
       "    <tr>\n",
       "      <th>19795</th>\n",
       "      <td>19910</td>\n",
       "      <td>1</td>\n",
       "    </tr>\n",
       "    <tr>\n",
       "      <th>19796</th>\n",
       "      <td>19911</td>\n",
       "      <td>1</td>\n",
       "    </tr>\n",
       "    <tr>\n",
       "      <th>19797</th>\n",
       "      <td>19912</td>\n",
       "      <td>1</td>\n",
       "    </tr>\n",
       "    <tr>\n",
       "      <th>19798</th>\n",
       "      <td>19913</td>\n",
       "      <td>1</td>\n",
       "    </tr>\n",
       "    <tr>\n",
       "      <th>19799</th>\n",
       "      <td>19914</td>\n",
       "      <td>1</td>\n",
       "    </tr>\n",
       "  </tbody>\n",
       "</table>\n",
       "<p>19800 rows × 2 columns</p>\n",
       "</div>"
      ],
      "text/plain": [
       "      user_id  counts\n",
       "0           0     129\n",
       "1           1     139\n",
       "2           2     183\n",
       "3           3     281\n",
       "4           4     118\n",
       "...       ...     ...\n",
       "19795   19910       1\n",
       "19796   19911       1\n",
       "19797   19912       1\n",
       "19798   19913       1\n",
       "19799   19914       1\n",
       "\n",
       "[19800 rows x 2 columns]"
      ]
     },
     "execution_count": 49,
     "metadata": {},
     "output_type": "execute_result"
    }
   ],
   "source": [
    "gb = dff.groupby(\"user_id\")[\"genre_id\"].nunique().reset_index()\n",
    "gb.columns = \"user_id\", \"counts\"\n",
    "#gb[gb[\"counts\"]<10]\n",
    "gb\n",
    "# some users listen to many diffrent genres"
   ]
  },
  {
   "cell_type": "code",
   "execution_count": 33,
   "id": "89dc6665",
   "metadata": {},
   "outputs": [
    {
     "data": {
      "text/html": [
       "<div>\n",
       "<style scoped>\n",
       "    .dataframe tbody tr th:only-of-type {\n",
       "        vertical-align: middle;\n",
       "    }\n",
       "\n",
       "    .dataframe tbody tr th {\n",
       "        vertical-align: top;\n",
       "    }\n",
       "\n",
       "    .dataframe thead th {\n",
       "        text-align: right;\n",
       "    }\n",
       "</style>\n",
       "<table border=\"1\" class=\"dataframe\">\n",
       "  <thead>\n",
       "    <tr style=\"text-align: right;\">\n",
       "      <th></th>\n",
       "      <th>genre_id</th>\n",
       "      <th>ts_listen</th>\n",
       "      <th>media_id</th>\n",
       "      <th>album_id</th>\n",
       "      <th>context_type</th>\n",
       "      <th>release_date</th>\n",
       "      <th>platform_name</th>\n",
       "      <th>platform_family</th>\n",
       "      <th>media_duration</th>\n",
       "      <th>listen_type</th>\n",
       "      <th>user_gender</th>\n",
       "      <th>user_id</th>\n",
       "      <th>artist_id</th>\n",
       "      <th>user_age</th>\n",
       "      <th>is_listened</th>\n",
       "    </tr>\n",
       "  </thead>\n",
       "  <tbody>\n",
       "  </tbody>\n",
       "</table>\n",
       "</div>"
      ],
      "text/plain": [
       "Empty DataFrame\n",
       "Columns: [genre_id, ts_listen, media_id, album_id, context_type, release_date, platform_name, platform_family, media_duration, listen_type, user_gender, user_id, artist_id, user_age, is_listened]\n",
       "Index: []"
      ]
     },
     "execution_count": 33,
     "metadata": {},
     "output_type": "execute_result"
    }
   ],
   "source": [
    "dff[dff.isna().any(axis=1)] # there are no missing values in the set"
   ]
  },
  {
   "cell_type": "code",
   "execution_count": null,
   "id": "b98e4b17",
   "metadata": {},
   "outputs": [],
   "source": []
  },
  {
   "cell_type": "code",
   "execution_count": 12,
   "id": "a76d4184",
   "metadata": {},
   "outputs": [
    {
     "data": {
      "image/png": "[encoded data removed]",
      "text/plain": [
       "<Figure size 432x288 with 1 Axes>"
      ]
     },
     "metadata": {
      "needs_background": "light"
     },
     "output_type": "display_data"
    }
   ],
   "source": [
    "sns.lineplot(x=\"user_age\", y=\"is_listened\", data=df)\n",
    "plt.show()"
   ]
  },
  {
   "cell_type": "code",
   "execution_count": 13,
   "id": "7ae3957b",
   "metadata": {},
   "outputs": [
    {
     "data": {
      "text/plain": [
       "<seaborn.axisgrid.FacetGrid at 0x12acc59d0>"
      ]
     },
     "execution_count": 13,
     "metadata": {},
     "output_type": "execute_result"
    },
    {
     "data": {
      "image/png": "[encoded data removed]",
      "text/plain": [
       "<Figure size 360x360 with 1 Axes>"
      ]
     },
     "metadata": {
      "needs_background": "light"
     },
     "output_type": "display_data"
    }
   ],
   "source": [
    "sns.displot(df, x=\"user_age\") # age is almost equally distributed"
   ]
  },
  {
   "cell_type": "markdown",
   "id": "c433fe62",
   "metadata": {},
   "source": [
    "A classification problem in machine learning is where we have given some input (independent variables), and we have to predict a discrete target. It is highly possible that the distribution of discrete values will be very different. Due to this difference in each class, the algorithms tend to get biased towards the majority values present and don’t perform well on the minority values.\n",
    "\n",
    "This difference in class frequencies affects the overall predictability of the model. (https://www.analyticsvidhya.com/blog/2020/10/improve-class-imbalance-class-weights/)"
   ]
  },
  {
   "cell_type": "code",
   "execution_count": 53,
   "id": "282eaf03",
   "metadata": {},
   "outputs": [
    {
     "data": {
      "text/plain": [
       "<seaborn.axisgrid.FacetGrid at 0x1e8ff7317c8>"
      ]
     },
     "execution_count": 53,
     "metadata": {},
     "output_type": "execute_result"
    },
    {
     "data": {
      "image/png": "[encoded data removed]",
      "text/plain": [
       "<Figure size 360x360 with 1 Axes>"
      ]
     },
     "metadata": {
      "needs_background": "light"
     },
     "output_type": "display_data"
    }
   ],
   "source": [
    "sns.displot(df, x=\"user_id\") # unbalanced dist. - need to handle with weights"
   ]
  },
  {
   "cell_type": "code",
   "execution_count": 14,
   "id": "91c85e2c",
   "metadata": {},
   "outputs": [],
   "source": [
    "correl = df.corr()"
   ]
  },
  {
   "cell_type": "code",
   "execution_count": 58,
   "id": "7ee7f724",
   "metadata": {},
   "outputs": [
    {
     "data": {
      "text/plain": [
       "<matplotlib.axes._subplots.AxesSubplot at 0x1e8ff6e8388>"
      ]
     },
     "execution_count": 58,
     "metadata": {},
     "output_type": "execute_result"
    },
    {
     "data": {
      "image/png": "[encoded data removed]",
      "text/plain": [
       "<Figure size 432x288 with 2 Axes>"
      ]
     },
     "metadata": {
      "needs_background": "light"
     },
     "output_type": "display_data"
    }
   ],
   "source": [
    "sns.heatmap(correl) # considerates only linear correlation - one should not drop some features to early"
   ]
  },
  {
   "cell_type": "code",
   "execution_count": null,
   "id": "acb576a6",
   "metadata": {},
   "outputs": [],
   "source": []
  },
  {
   "cell_type": "code",
   "execution_count": 15,
   "id": "f4c4566e",
   "metadata": {},
   "outputs": [],
   "source": [
    "dff.to_csv('../data/train-prep.csv')"
   ]
  },
  {
   "cell_type": "markdown",
   "id": "92b6ae2c",
   "metadata": {
    "ExecuteTime": {
     "end_time": "2021-03-07T09:39:48.273144Z",
     "start_time": "2021-03-07T09:39:48.271190Z"
    }
   },
   "source": [
    "# Issues\n",
    "* Many categorial variable with categories with very few observations - heavy to analyse and model\n",
    "* A song can be affiliated  to multiple genres - we don't know all affiliations. We know only one. They should have defined\n",
    "  upper generes and subgenres.\n",
    "* We have almost no knowledge about audio content - eg: beat tempo\n",
    "* The context is not precise enough. We have only one context type per sample. They should have divided context in diffrent \n",
    "  types, that they could be combined. Eg: context1 = mood, context2= location, context3 = weather conditions ....\n",
    "* imbalanced classes\n"
   ]
  },
  {
   "cell_type": "code",
   "execution_count": null,
   "id": "d7f06658",
   "metadata": {},
   "outputs": [],
   "source": []
  },
  {
   "cell_type": "code",
   "execution_count": null,
   "id": "f684eb34",
   "metadata": {},
   "outputs": [],
   "source": []
  }
 ],
 "metadata": {
  "kernelspec": {
   "display_name": "PyCharm (music_recommendation)",
   "language": "python",
   "name": "pycharm-51111b1e"
  },
  "language_info": {
   "codemirror_mode": {
    "name": "ipython",
    "version": 3
   },
   "file_extension": ".py",
   "mimetype": "text/x-python",
   "name": "python",
   "nbconvert_exporter": "python",
   "pygments_lexer": "ipython3",
   "version": "3.9.1"
  },
  "toc": {
   "base_numbering": 1,
   "nav_menu": {},
   "number_sections": true,
   "sideBar": true,
   "skip_h1_title": true,
   "title_cell": "Table of Contents",
   "title_sidebar": "Contents",
   "toc_cell": true,
   "toc_position": {},
   "toc_section_display": true,
   "toc_window_display": true
  }
 },
 "nbformat": 4,
 "nbformat_minor": 5
}
